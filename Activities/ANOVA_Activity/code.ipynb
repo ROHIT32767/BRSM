{
 "cells": [
  {
   "cell_type": "code",
   "execution_count": 87,
   "metadata": {},
   "outputs": [],
   "source": [
    "import pandas as pd\n",
    "import numpy as np\n",
    "from scipy.stats import shapiro, levene, f_oneway , chi2\n",
    "from statsmodels.stats.multicomp import pairwise_tukeyhsd\n",
    "import matplotlib.pyplot as plt\n",
    "import seaborn as sns\n",
    "from tabulate import tabulate\n",
    "from scipy.stats import f\n",
    "from scipy.stats import ttest_ind\n",
    "from scipy.stats import kstest"
   ]
  },
  {
   "cell_type": "markdown",
   "metadata": {},
   "source": [
    "# Exam Performance"
   ]
  },
  {
   "cell_type": "code",
   "execution_count": 88,
   "metadata": {},
   "outputs": [],
   "source": [
    "data = pd.read_csv('exam_scores.csv')"
   ]
  },
  {
   "cell_type": "code",
   "execution_count": 89,
   "metadata": {},
   "outputs": [
    {
     "name": "stdout",
     "output_type": "stream",
     "text": [
      "     Groups  Count   Sum    Average    Variance\n",
      "0      Home     15  1182  78.800000  141.171429\n",
      "1  Boarding     15  1078  71.866667   73.980952\n",
      "2   Regular     15  1263  84.200000   50.457143\n"
     ]
    }
   ],
   "source": [
    "group_stats = {\n",
    "    'Groups': ['Home', 'Boarding', 'Regular'],\n",
    "    'Count': [len(data['Home']), len(data['Boarding']), len(data['Regular'])],\n",
    "    'Sum': [data['Home'].sum(), data['Boarding'].sum(), data['Regular'].sum()],\n",
    "    'Average': [data['Home'].mean(), data['Boarding'].mean(), data['Regular'].mean()],\n",
    "    'Variance': [data['Home'].var(), data['Boarding'].var(), data['Regular'].var()]\n",
    "}\n",
    "group_stats_df = pd.DataFrame(group_stats)\n",
    "print(group_stats_df)"
   ]
  },
  {
   "cell_type": "markdown",
   "metadata": {},
   "source": [
    "## Check for Normality"
   ]
  },
  {
   "cell_type": "code",
   "execution_count": 90,
   "metadata": {},
   "outputs": [
    {
     "name": "stdout",
     "output_type": "stream",
     "text": [
      "Shapiro Normality Tests:\n",
      "                            Home  Boarding   Regular\n",
      "Shapiro-Wilk Statistic  0.905427  0.969238   0.97489\n",
      "p-value                 0.115225  0.846616  0.922709\n",
      "Normality                   True      True      True\n",
      "\n",
      "\n",
      "Kolmogorov-Smirnov Tests with Lilliefors Significance Correction:\n",
      "                                  Home  Boarding   Regular\n",
      "Kolmogorov-Smirnov Statistic  0.154949  0.114252  0.099591\n",
      "p-value                       0.812204  0.976888  0.994779\n",
      "Normality                         True      True      True\n"
     ]
    }
   ],
   "source": [
    "shapiro_normality_tests = {}\n",
    "for col in data.columns:\n",
    "    stat, p = shapiro(data[col])\n",
    "    shapiro_normality_tests[col] = {'Shapiro-Wilk Statistic': stat, 'p-value': p, 'Normality': p > 0.05}\n",
    "\n",
    "lilliefors_normality_tests = {}\n",
    "for col in data.keys():\n",
    "    n = len(data[col])\n",
    "    d, p = kstest(data[col], 'norm', args=(np.mean(data[col]), np.std(data[col], ddof=1)))\n",
    "    lilliefors_normality_tests[col] = {'Kolmogorov-Smirnov Statistic': d, 'p-value': p, 'Normality': p > 0.05}\n",
    "\n",
    "print(\"Shapiro Normality Tests:\")\n",
    "print(pd.DataFrame(shapiro_normality_tests))\n",
    "print(\"\\n\")\n",
    "print(\"Kolmogorov-Smirnov Tests with Lilliefors Significance Correction:\")\n",
    "print(pd.DataFrame(lilliefors_normality_tests))"
   ]
  },
  {
   "cell_type": "markdown",
   "metadata": {},
   "source": [
    "### Check homogeneity of variances (different participants in different groups, Factorial ANOVA)"
   ]
  },
  {
   "cell_type": "code",
   "execution_count": 91,
   "metadata": {},
   "outputs": [
    {
     "name": "stdout",
     "output_type": "stream",
     "text": [
      "\n",
      "Homogeneity of Variances Test:\n",
      "         Center  Test-Statistic   p-value\n",
      "0          Mean        1.674937  0.199589\n",
      "1        Median        1.647691  0.204693\n",
      "2  Trimmed Mean        1.674937  0.199589\n",
      "Variance is homogenous based on mean\n",
      "\n",
      "One-Way ANOVA Test is chosen\n"
     ]
    }
   ],
   "source": [
    "levene_mean = levene(data['Home'], data['Boarding'], data['Regular'], center='mean')\n",
    "levene_median = levene(data['Home'], data['Boarding'], data['Regular'], center='median')\n",
    "levene_trimmed_mean = levene(data['Home'], data['Boarding'], data['Regular'], center='trimmed')\n",
    "print(\"\\nHomogeneity of Variances Test:\")\n",
    "levene_test = pd.DataFrame({\n",
    "    'Center': ['Mean', 'Median', 'Trimmed Mean'],\n",
    "    'Test-Statistic': [levene_mean.statistic, levene_median.statistic, levene_trimmed_mean.statistic],\n",
    "    'p-value': [levene_mean.pvalue, levene_median.pvalue, levene_trimmed_mean.pvalue]\n",
    "})\n",
    "print(levene_test)\n",
    "if levene_mean.pvalue > 0.05:\n",
    "    print(\"Variance is homogenous based on mean\")\n",
    "elif levene_median.pvalue > 0.05:\n",
    "    print(\"Variance is homogenous based on median\")\n",
    "elif levene_trimmed_mean.pvalue > 0.05:\n",
    "    print(\"Variance is homogenous based on trimmed mean\")\n",
    "else:\n",
    "    print(\"Variance is not homogenous\")\n",
    "\n",
    "\n",
    "if levene_mean.pvalue > 0.05:\n",
    "    print(\"\\nOne-Way ANOVA Test is chosen\")\n",
    "else:\n",
    "    print(\"\\nRobust Welch's ANOVA Test is chosen\")"
   ]
  },
  {
   "cell_type": "markdown",
   "metadata": {},
   "source": [
    "##### Null Hypothesis (H0): Exam performance is not affected by type of schooling\n",
    "\n",
    "##### Alternative Hypothesis (H1): Type of schooling affects exam performance"
   ]
  },
  {
   "cell_type": "code",
   "execution_count": 92,
   "metadata": {},
   "outputs": [
    {
     "name": "stdout",
     "output_type": "stream",
     "text": [
      "ANOVA Table\n",
      "+---------------------+-------------+----+------------+----------+----------+----------+\n",
      "| Source of Variation |     SS      | df |     MS     |    F     | p-value  |  F crit  |\n",
      "+---------------------+-------------+----+------------+----------+----------+----------+\n",
      "|   Between Groups    | 1146.711111 | 2  | 573.355556 | 6.475922 | 0.003537 | 3.219942 |\n",
      "|    Within Groups    | 3718.533333 | 42 | 88.536508  |          |          |          |\n",
      "|        Total        | 4865.244444 | 44 |            |          |          |          |\n",
      "+---------------------+-------------+----+------------+----------+----------+----------+\n"
     ]
    }
   ],
   "source": [
    "Home = data['Home']\n",
    "Boarding = data['Boarding']\n",
    "Regular = data['Regular']\n",
    "\n",
    "k = 3\n",
    "N = len(Home) + len(Boarding) + len(Regular)\n",
    "group_means = [np.mean(Home), np.mean(Boarding), np.mean(Regular)]\n",
    "grand_mean = np.mean([np.mean(Home), np.mean(Boarding), np.mean(Regular)])\n",
    "SSb = sum([len(Home) * (group_means[0] - grand_mean) ** 2,\n",
    "           len(Boarding) * (group_means[1] - grand_mean) ** 2,\n",
    "           len(Regular) * (group_means[2] - grand_mean) ** 2])\n",
    "dfb = k-1\n",
    "MSb = SSb / dfb\n",
    "SSw = sum([(x - group_means[i]) ** 2 for i, data in enumerate([Home, Boarding, Regular]) for x in data])\n",
    "dfw = N-k\n",
    "MSw = SSw / dfw\n",
    "F_value = MSb / MSw\n",
    "alpha = 0.05\n",
    "F_crit = f.ppf(1 - alpha, dfb, dfw)\n",
    "p_value = 1-f.cdf(F_value, dfb, dfw)\n",
    "\n",
    "\n",
    "anova_table = [\n",
    "    [\"Between Groups\", f\"{SSb:.6f}\", dfb, f\"{MSb:.6f}\", f\"{F_value:.6f}\",f\"{p_value:.6f}\" ,f\"{F_crit:.6f}\"],\n",
    "    [\"Within Groups\", f\"{SSw:.6f}\", dfw, f\"{MSw:.6f}\"],\n",
    "    [\"Total\", f\"{SSb+SSw:.6f}\", dfb+dfw]\n",
    "]\n",
    "\n",
    "print(\"ANOVA Table\")\n",
    "print(tabulate(anova_table, headers=[\"Source of Variation\", \"SS\", \"df\", \"MS\", \"F\", \"p-value\",\"F crit\"], tablefmt=\"pretty\"))"
   ]
  },
  {
   "cell_type": "code",
   "execution_count": 93,
   "metadata": {},
   "outputs": [
    {
     "name": "stdout",
     "output_type": "stream",
     "text": [
      "\n",
      "One-way ANOVA Test:\n",
      "F-statistic: 6.475922406683641\n",
      "p-value: 0.003536773789503349\n",
      "\n",
      "Since p-value < 0.05, there are significant differences between groups. Using a one way ANOVA we observed that the schooling method has a significant effect on exam  performance\n"
     ]
    }
   ],
   "source": [
    "anova_result = f_oneway(data['Home'], data['Boarding'], data['Regular'])\n",
    "print(\"\\nOne-way ANOVA Test:\")\n",
    "print(f\"F-statistic: {anova_result.statistic}\")\n",
    "print(f\"p-value: {anova_result.pvalue}\")\n",
    "\n",
    "if anova_result.pvalue < 0.05:\n",
    "    print(\"\\nSince p-value < 0.05, there are significant differences between groups. Using a one way ANOVA we observed that the schooling method has a significant effect on exam  performance\")\n",
    "else:\n",
    "    print(\"\\nNo significant differences between groups.\")"
   ]
  },
  {
   "cell_type": "code",
   "execution_count": 94,
   "metadata": {},
   "outputs": [
    {
     "name": "stdout",
     "output_type": "stream",
     "text": [
      "Effect Size: 0.235694\n",
      "Type of schooling explains 23.57% of the variance in exam performance\n"
     ]
    }
   ],
   "source": [
    "Effect_size = SSb / (SSb + SSw)\n",
    "print(f\"Effect Size: {Effect_size:.6f}\")\n",
    "print(f\"Type of schooling explains {Effect_size*100:.2f}% of the variance in exam performance\")"
   ]
  },
  {
   "cell_type": "markdown",
   "metadata": {},
   "source": [
    "##### We know there is difference between the groups,but which groups perform better or worse?"
   ]
  },
  {
   "cell_type": "markdown",
   "metadata": {},
   "source": [
    ">*  Planned comparison (contrast) – prior to experiment (based on the literature)\n",
    ">*  Regular schooling > (boarding or home school)\n",
    ">*  Regular schooling – Control condition\n",
    ">*  Boarding school – Experimental condition 1\n",
    ">* Home school – Experimental condition 2\n",
    ">* But as the no. of planned comparisons increase (>2 comparisons), the alpha level has to adjusted, again to avoid Type I error. This is done by dividing the alpha level by the no. of comparisons. This is called Bonferroni correction."
   ]
  },
  {
   "cell_type": "markdown",
   "metadata": {},
   "source": [
    "### Post-hoc Bonferroni and Tukeýs HSD test"
   ]
  },
  {
   "cell_type": "code",
   "execution_count": 95,
   "metadata": {},
   "outputs": [
    {
     "name": "stdout",
     "output_type": "stream",
     "text": [
      "alpha corrected:  0.016666666666666666\n",
      "+-------------------------+------------------+--------------------------------+\n",
      "| Groupwise comparisons   |   T-test p-value |   Bonferroni-corrected p-value |\n",
      "+=========================+==================+================================+\n",
      "| Home vs Boarding        |       0.07781    |                    0.23343     |\n",
      "+-------------------------+------------------+--------------------------------+\n",
      "| Boarding vs Regular     |       0.00019644 |                    0.000589321 |\n",
      "+-------------------------+------------------+--------------------------------+\n",
      "| Regular vs Home         |       0.142042   |                    0.426125    |\n",
      "+-------------------------+------------------+--------------------------------+\n"
     ]
    }
   ],
   "source": [
    "t_statistic_home_boarding, p_value_home_boarding = ttest_ind(Home, Boarding)\n",
    "t_statistic_boarding_regular, p_value_boarding_regular = ttest_ind(Boarding, Regular)\n",
    "t_statistic_regular_home, p_value_regular_home = ttest_ind(Regular, Home)\n",
    "\n",
    "alpha = 0.05\n",
    "alpha_corrected = alpha / 3 \n",
    "\n",
    "print(\"alpha corrected: \", alpha_corrected)\n",
    "\n",
    "p_value_home_boarding_corrected = p_value_home_boarding * 3\n",
    "p_value_boarding_regular_corrected = p_value_boarding_regular * 3\n",
    "p_value_regular_home_corrected = p_value_regular_home * 3\n",
    "\n",
    "table_data = [\n",
    "    ['Groupwise comparisons', 'T-test p-value', 'Bonferroni-corrected p-value'],\n",
    "    ['Home vs Boarding', p_value_home_boarding, p_value_home_boarding_corrected],\n",
    "    ['Boarding vs Regular', p_value_boarding_regular, p_value_boarding_regular_corrected],\n",
    "    ['Regular vs Home', p_value_regular_home, p_value_regular_home_corrected]\n",
    "]\n",
    "print(tabulate(table_data, headers=\"firstrow\", tablefmt=\"grid\"))"
   ]
  },
  {
   "cell_type": "code",
   "execution_count": 96,
   "metadata": {},
   "outputs": [
    {
     "name": "stdout",
     "output_type": "stream",
     "text": [
      "  Multiple Comparison of Means - Tukey HSD, FWER=0.05  \n",
      "=======================================================\n",
      " group1   group2 meandiff p-adj   lower   upper  reject\n",
      "-------------------------------------------------------\n",
      "Boarding    Home   6.9333 0.1204  -1.414 15.2806  False\n",
      "Boarding Regular  12.3333 0.0024   3.986 20.6806   True\n",
      "    Home Regular      5.4  0.269 -2.9473 13.7473  False\n",
      "-------------------------------------------------------\n",
      "3.4358230206770175\n",
      "HSD: 8.347306\n",
      "The mean difference between any two samples must be more than 8.347306 at alpha = 0.05 for the difference to be statistically significant\n"
     ]
    }
   ],
   "source": [
    "if anova_result.pvalue < 0.05:\n",
    "    data_melted = pd.melt(data)\n",
    "    posthoc = pairwise_tukeyhsd(data_melted['value'], data_melted['variable'], alpha=0.05)\n",
    "    print(posthoc)\n",
    "    print(posthoc.q_crit) \n",
    "    HSD = posthoc.q_crit*np.sqrt(MSw / len(data))\n",
    "    print(f\"HSD: {HSD:.6f}\")\n",
    "    print(f\"The mean difference between any two samples must be more than {HSD:.6f} at alpha = 0.05 for the difference to be statistically significant\")"
   ]
  },
  {
   "cell_type": "markdown",
   "metadata": {},
   "source": [
    "Using Bonferroni post-hoc test, we found that regular school resulted in better exam performance than boarding school (p<.001). There was no significant difference between the other groups"
   ]
  },
  {
   "cell_type": "code",
   "execution_count": 97,
   "metadata": {},
   "outputs": [
    {
     "name": "stdout",
     "output_type": "stream",
     "text": [
      "\n",
      "Effect Size (Eta-squared): 0.3162701185354075\n"
     ]
    }
   ],
   "source": [
    "effect_size = anova_result.statistic / (anova_result.statistic + (len(data) - 1))\n",
    "print(\"\\nEffect Size (Eta-squared):\", effect_size)"
   ]
  },
  {
   "cell_type": "markdown",
   "metadata": {},
   "source": [
    "# Plot Analyzed Data"
   ]
  },
  {
   "cell_type": "code",
   "execution_count": 98,
   "metadata": {},
   "outputs": [
    {
     "data": {
      "image/png": "[encoded data removed]",
      "text/plain": [
       "<Figure size 1000x600 with 1 Axes>"
      ]
     },
     "metadata": {},
     "output_type": "display_data"
    },
    {
     "name": "stdout",
     "output_type": "stream",
     "text": [
      "Error bars denote confidence intervals (CI) of 95%\n"
     ]
    }
   ],
   "source": [
    "data_melted = pd.melt(data)\n",
    "plt.figure(figsize=(10, 6))\n",
    "sns.barplot(x='variable', y='value', data=data_melted, errorbar=('ci', 95), hue='variable', palette=\"Set3\")\n",
    "plt.title('Memory Scores by Group')\n",
    "plt.xlabel('Group')\n",
    "plt.ylabel('Memory Score')\n",
    "plt.show()\n",
    "print(\"Error bars denote confidence intervals (CI) of 95%\")"
   ]
  },
  {
   "cell_type": "code",
   "execution_count": 99,
   "metadata": {},
   "outputs": [
    {
     "data": {
      "image/png": "[encoded data removed]",
      "text/plain": [
       "<Figure size 1000x600 with 1 Axes>"
      ]
     },
     "metadata": {},
     "output_type": "display_data"
    }
   ],
   "source": [
    "plt.figure(figsize=(10, 6))\n",
    "sns.boxplot(x='variable', y='value', hue='variable', data=data.melt(), palette=\"Set3\", legend=False)\n",
    "plt.title('Memory Scores by Group')\n",
    "plt.xlabel('Group')\n",
    "plt.ylabel('Memory Score')\n",
    "plt.show()"
   ]
  }
 ],
 "metadata": {
  "kernelspec": {
   "display_name": "Python 3",
   "language": "python",
   "name": "python3"
  },
  "language_info": {
   "codemirror_mode": {
    "name": "ipython",
    "version": 3
   },
   "file_extension": ".py",
   "mimetype": "text/x-python",
   "name": "python",
   "nbconvert_exporter": "python",
   "pygments_lexer": "ipython3",
   "version": "3.12.1"
  }
 },
 "nbformat": 4,
 "nbformat_minor": 2
}

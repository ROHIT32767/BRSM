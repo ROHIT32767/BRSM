{
 "cells": [
  {
   "cell_type": "markdown",
   "metadata": {},
   "source": [
    "# Memory Scores"
   ]
  },
  {
   "cell_type": "code",
   "execution_count": null,
   "metadata": {},
   "outputs": [],
   "source": [
    "# Do children with neurodevelopmental disorders have lower memory scores?\n",
    "import pandas as pd\n",
    "import numpy as np\n",
    "from scipy.stats import shapiro, levene, f_oneway\n",
    "from statsmodels.stats.multicomp import pairwise_tukeyhsd\n",
    "import matplotlib.pyplot as plt\n",
    "import seaborn as sns"
   ]
  },
  {
   "cell_type": "markdown",
   "metadata": {},
   "source": [
    "## Check for Normality"
   ]
  },
  {
   "cell_type": "code",
   "execution_count": 6,
   "metadata": {},
   "outputs": [
    {
     "name": "stdout",
     "output_type": "stream",
     "text": [
      "Normality Tests:\n",
      "                          Normal  Autistic  Epilepsy\n",
      "Shapiro-Wilk Statistic  0.954278  0.856206  0.947875\n",
      "p-value                 0.495997  0.010625  0.392663\n",
      "Normality                   True     False      True\n"
     ]
    }
   ],
   "source": [
    "data = pd.read_csv('memory_scores.csv')\n",
    "normality_tests = {}\n",
    "for col in data.columns:\n",
    "    stat, p = shapiro(data[col])\n",
    "    normality_tests[col] = {'Shapiro-Wilk Statistic': stat, 'p-value': p, 'Normality': p > 0.05}\n",
    "\n",
    "print(\"Normality Tests:\")\n",
    "print(pd.DataFrame(normality_tests))"
   ]
  },
  {
   "cell_type": "markdown",
   "metadata": {},
   "source": [
    "## Check homogeneity of variances (different participants in different groups, Factorial ANOVA)"
   ]
  },
  {
   "cell_type": "code",
   "execution_count": 7,
   "metadata": {},
   "outputs": [
    {
     "name": "stdout",
     "output_type": "stream",
     "text": [
      "\n",
      "Homogeneity of Variances Test:\n",
      "Levene's Test Statistic: 6.628001093792725\n",
      "p-value: 0.0027621044671046974\n",
      "Variances are not Homogeneous\n"
     ]
    }
   ],
   "source": [
    "homogeneity_test = levene(data['Normal'], data['Autistic'], data['Epilepsy'])\n",
    "homogeneity_result = \"Variances are Homogeneous\" if homogeneity_test.pvalue > 0.05 else \"Variances are not Homogeneous\"\n",
    "print(\"\\nHomogeneity of Variances Test:\")\n",
    "print(f\"Levene's Test Statistic: {homogeneity_test.statistic}\")\n",
    "print(f\"p-value: {homogeneity_test.pvalue}\")\n",
    "print(homogeneity_result)"
   ]
  },
  {
   "cell_type": "markdown",
   "metadata": {},
   "source": [
    "## Check for sphericity of variances (same participants across groups, repeated measures ANOVA)"
   ]
  },
  {
   "cell_type": "code",
   "execution_count": 9,
   "metadata": {},
   "outputs": [
    {
     "name": "stdout",
     "output_type": "stream",
     "text": [
      "\n",
      "Mauchly's Test for Sphericity:\n",
      "SpherResults(spher=True, W=0.8371875064512045, chi2=2.8433153845984496, dof=2, pval=0.2413136613574385)\n"
     ]
    }
   ],
   "source": [
    "import pingouin as pg\n",
    "mauchly_result = pg.sphericity(data[['Normal', 'Autistic', 'Epilepsy']])\n",
    "print(\"\\nMauchly's Test for Sphericity:\")\n",
    "print(mauchly_result)"
   ]
  },
  {
   "cell_type": "markdown",
   "metadata": {},
   "source": [
    "## Check"
   ]
  },
  {
   "cell_type": "code",
   "execution_count": 10,
   "metadata": {},
   "outputs": [
    {
     "name": "stdout",
     "output_type": "stream",
     "text": [
      "\n",
      "One-way ANOVA Test:\n",
      "F-statistic: 23.867308893389097\n",
      "p-value: 4.831350364781915e-08\n",
      "\n",
      "Since p-value < 0.05, there are significant differences between groups.\n"
     ]
    }
   ],
   "source": [
    "anova_result = f_oneway(data['Normal'], data['Autistic'], data['Epilepsy'])\n",
    "print(\"\\nOne-way ANOVA Test:\")\n",
    "print(f\"F-statistic: {anova_result.statistic}\")\n",
    "print(f\"p-value: {anova_result.pvalue}\")\n",
    "\n",
    "# Choose appropriate test\n",
    "if anova_result.pvalue < 0.05:\n",
    "    print(\"\\nSince p-value < 0.05, there are significant differences between groups.\")\n",
    "    # You may proceed with post-hoc tests if necessary\n",
    "else:\n",
    "    print(\"\\nNo significant differences between groups.\")"
   ]
  },
  {
   "cell_type": "code",
   "execution_count": 12,
   "metadata": {},
   "outputs": [
    {
     "name": "stdout",
     "output_type": "stream",
     "text": [
      "\n",
      "Post-hoc Test:\n",
      "  Multiple Comparison of Means - Tukey HSD, FWER=0.05   \n",
      "========================================================\n",
      " group1   group2  meandiff p-adj   lower   upper  reject\n",
      "--------------------------------------------------------\n",
      "Autistic Epilepsy  14.3889    0.0  8.2842 20.4935   True\n",
      "Autistic   Normal  15.7778    0.0  9.6731 21.8824   True\n",
      "Epilepsy   Normal   1.3889 0.8473 -4.7158  7.4935  False\n",
      "--------------------------------------------------------\n"
     ]
    }
   ],
   "source": [
    "if anova_result.pvalue < 0.05:\n",
    "    posthoc = pairwise_tukeyhsd(data.melt()['value'], data.melt()['variable'], alpha=0.05)\n",
    "    print(\"\\nPost-hoc Test:\")\n",
    "    print(posthoc)"
   ]
  },
  {
   "cell_type": "code",
   "execution_count": 13,
   "metadata": {},
   "outputs": [
    {
     "name": "stdout",
     "output_type": "stream",
     "text": [
      "\n",
      "Effect Size (Eta-squared): 0.584019587774961\n"
     ]
    }
   ],
   "source": [
    "effect_size = anova_result.statistic / (anova_result.statistic + (len(data) - 1))\n",
    "print(\"\\nEffect Size (Eta-squared):\", effect_size)"
   ]
  },
  {
   "cell_type": "code",
   "execution_count": 15,
   "metadata": {},
   "outputs": [
    {
     "data": {
      "image/png": "[encoded data removed]",
      "text/plain": [
       "<Figure size 1000x600 with 1 Axes>"
      ]
     },
     "metadata": {},
     "output_type": "display_data"
    }
   ],
   "source": [
    "import seaborn as sns\n",
    "import matplotlib.pyplot as plt\n",
    "\n",
    "\n",
    "plt.figure(figsize=(10, 6))\n",
    "sns.boxplot(x='variable', y='value', hue='variable', data=data.melt(), palette=\"Set3\", legend=False)\n",
    "plt.title('Memory Scores by Group')\n",
    "plt.xlabel('Group')\n",
    "plt.ylabel('Memory Score')\n",
    "plt.show()"
   ]
  }
 ],
 "metadata": {
  "kernelspec": {
   "display_name": "Python 3",
   "language": "python",
   "name": "python3"
  },
  "language_info": {
   "codemirror_mode": {
    "name": "ipython",
    "version": 3
   },
   "file_extension": ".py",
   "mimetype": "text/x-python",
   "name": "python",
   "nbconvert_exporter": "python",
   "pygments_lexer": "ipython3",
   "version": "3.12.1"
  }
 },
 "nbformat": 4,
 "nbformat_minor": 2
}

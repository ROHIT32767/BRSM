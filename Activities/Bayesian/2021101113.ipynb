{
 "cells": [
  {
   "cell_type": "code",
   "execution_count": 1,
   "metadata": {},
   "outputs": [],
   "source": [
    "import numpy as np\n",
    "import pyreadr"
   ]
  },
  {
   "cell_type": "code",
   "execution_count": 3,
   "metadata": {},
   "outputs": [
    {
     "name": "stdout",
     "output_type": "stream",
     "text": [
      "OrderedDict({'parenthood':     dan.sleep  baby.sleep  dan.grump  day\n",
      "0        7.59       10.18       56.0    1\n",
      "1        7.91       11.66       60.0    2\n",
      "2        5.14        7.92       82.0    3\n",
      "3        7.71        9.61       55.0    4\n",
      "4        6.68        9.75       67.0    5\n",
      "..        ...         ...        ...  ...\n",
      "95       5.31        5.89       79.0   96\n",
      "96       7.77        9.77       51.0   97\n",
      "97       5.38        6.97       82.0   98\n",
      "98       7.02        6.56       55.0   99\n",
      "99       6.45        7.93       74.0  100\n",
      "\n",
      "[100 rows x 4 columns]})\n"
     ]
    }
   ],
   "source": [
    "data = pyreadr.read_r('./parenthood.rdata')\n",
    "print(data)"
   ]
  }
 ],
 "metadata": {
  "kernelspec": {
   "display_name": "Python 3",
   "language": "python",
   "name": "python3"
  },
  "language_info": {
   "codemirror_mode": {
    "name": "ipython",
    "version": 3
   },
   "file_extension": ".py",
   "mimetype": "text/x-python",
   "name": "python",
   "nbconvert_exporter": "python",
   "pygments_lexer": "ipython3",
   "version": "3.12.1"
  }
 },
 "nbformat": 4,
 "nbformat_minor": 2
}

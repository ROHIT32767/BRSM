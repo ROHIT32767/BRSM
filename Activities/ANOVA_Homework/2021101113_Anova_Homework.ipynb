{
 "cells": [
  {
   "cell_type": "markdown",
   "metadata": {},
   "source": [
    "# Anova-Homework\n",
    "## Gowlapalli Rohit - 2021101113"
   ]
  },
  {
   "cell_type": "code",
   "execution_count": 34,
   "metadata": {},
   "outputs": [],
   "source": [
    "import pandas as pd\n",
    "import numpy as np\n",
    "from scipy.stats import shapiro, levene, f_oneway , chi2 , kruskal , t , mannwhitneyu\n",
    "from statsmodels.stats.anova import AnovaRM\n",
    "from statsmodels.stats.multicomp import pairwise_tukeyhsd\n",
    "import matplotlib.pyplot as plt\n",
    "import seaborn as sns\n",
    "from tabulate import tabulate\n",
    "from scipy.stats import f\n",
    "from scipy.stats import ttest_ind\n",
    "from scipy.stats import kstest\n",
    "import pingouin as pg\n",
    "from statsmodels.stats.multitest import multipletests\n",
    "import scikit_posthocs as sp"
   ]
  },
  {
   "cell_type": "markdown",
   "metadata": {},
   "source": [
    "# Memory Scores"
   ]
  },
  {
   "cell_type": "code",
   "execution_count": 35,
   "metadata": {},
   "outputs": [],
   "source": [
    "# Do children with neurodevelopmental disorders have lower memory scores?\n",
    "data_normal = np.array([24, 22, 19, 22, 28, 26, 28, 24, 30, 29, 25, 20, 17, 19, 18, 26, 27, 24, 27, 27])\n",
    "data_autistic = np.array([15, 2, 1, 21, 3, 10, 9, 8, 3, 7, 6, 18, 2, 5, 2, 5, 0, 27])\n",
    "data_epilepsy = np.array([30, 15, 34, 26, 14, 28, 17, 29, 25, 11, 37, 36, 34, 22, 18, 5, 12, 10,15])\n",
    "data_disorder = np.concatenate((data_autistic, data_epilepsy))"
   ]
  },
  {
   "cell_type": "markdown",
   "metadata": {},
   "source": [
    "##### Null Hypothesis (H0): There is no significant difference in memory scores among children with different neurodevelopmental disorders.\n",
    "\n",
    "##### Alternative Hypothesis (H1): Children with neurodevelopmental disorders (such as Autism and Epilepsy) have lower memory scores compared to children without these disorders."
   ]
  },
  {
   "cell_type": "code",
   "execution_count": 36,
   "metadata": {},
   "outputs": [
    {
     "name": "stdout",
     "output_type": "stream",
     "text": [
      "     Groups  Count  Sum    Average    Variance\n",
      "0    Normal     20  482  24.100000   14.390000\n",
      "1  Autistic     18  144   8.000000   54.333333\n",
      "2  Epilepsy     19  418  22.000000   91.578947\n",
      "3  Disorder     37  562  15.189189  122.423667\n"
     ]
    }
   ],
   "source": [
    "group_stats = {\n",
    "    'Groups': ['Normal', 'Autistic', 'Epilepsy','Disorder'],\n",
    "    'Count': [len(data_normal), len(data_autistic), len(data_epilepsy),len(data_disorder)],\n",
    "    'Sum': [data_normal.sum(), data_autistic.sum(), data_epilepsy.sum(),data_disorder.sum()],\n",
    "    'Average': [data_normal.mean(), data_autistic.mean(), data_epilepsy.mean(),data_disorder.mean()],\n",
    "    'Variance': [data_normal.var(), data_autistic.var(), data_epilepsy.var(),data_disorder.var()],\n",
    "}\n",
    "group_stats_df = pd.DataFrame(group_stats)\n",
    "print(group_stats_df) "
   ]
  },
  {
   "cell_type": "markdown",
   "metadata": {},
   "source": [
    "## Check for Normality"
   ]
  },
  {
   "cell_type": "code",
   "execution_count": 37,
   "metadata": {},
   "outputs": [
    {
     "name": "stdout",
     "output_type": "stream",
     "text": [
      "Data for Autistic group is not normally distributed.\n",
      "Kruskal-Wallis Test is used for non-parametric data.\n",
      "\n",
      "Data for Disorder group is not normally distributed.\n",
      "Kruskal-Wallis Test is used for non-parametric data.\n",
      "\n",
      "Shapiro Normality Tests:\n",
      "                          Normal  Autistic  Epilepsy  Disorder\n",
      "Shapiro-Wilk Statistic  0.942034  0.856206  0.946716  0.928427\n",
      "p-value                 0.261899  0.010625  0.346958  0.020035\n",
      "Normality                   True     False      True     False\n",
      "\n",
      "\n",
      "Kolmogorov-Smirnov Tests with Lilliefors Significance Correction:\n",
      "                                Normal  Autistic  Epilepsy  Disorder\n",
      "Kolmogorov-Smirnov Statistic  0.139751  0.173789  0.131621  0.110611\n",
      "p-value                       0.779754  0.588889  0.855336   0.71456\n",
      "Normality                         True      True      True      True\n"
     ]
    }
   ],
   "source": [
    "shapiro_normality_tests = {}\n",
    "for temp_data in data_normal, data_autistic, data_epilepsy, data_disorder:\n",
    "    stat, p = shapiro(temp_data)\n",
    "    col = 'Normal' if temp_data is data_normal else 'Autistic' if temp_data is data_autistic else 'Epilepsy' if temp_data is data_epilepsy else 'Disorder'\n",
    "    shapiro_normality_tests[col] = {'Shapiro-Wilk Statistic': stat, 'p-value': p, 'Normality': p > 0.05}\n",
    "    if p < 0.05:\n",
    "        print(f\"Data for {col} group is not normally distributed.\")\n",
    "        print(\"Kruskal-Wallis Test is used for non-parametric data.\\n\")\n",
    "\n",
    "lilliefors_normality_tests = {}\n",
    "for temp_data in data_normal, data_autistic, data_epilepsy,data_disorder:\n",
    "    n = len(temp_data)\n",
    "    d, p = kstest(temp_data, 'norm', args=(np.mean(temp_data), np.std(temp_data, ddof=1)))\n",
    "    col = 'Normal' if temp_data is data_normal else 'Autistic' if temp_data is data_autistic else 'Epilepsy' if temp_data is data_epilepsy else 'Disorder'\n",
    "    lilliefors_normality_tests[col] = {'Kolmogorov-Smirnov Statistic': d, 'p-value': p, 'Normality': p > 0.05}\n",
    "\n",
    "print(\"Shapiro Normality Tests:\")\n",
    "print(pd.DataFrame(shapiro_normality_tests))\n",
    "print(\"\\n\")\n",
    "print(\"Kolmogorov-Smirnov Tests with Lilliefors Significance Correction:\")\n",
    "print(pd.DataFrame(lilliefors_normality_tests))"
   ]
  },
  {
   "cell_type": "markdown",
   "metadata": {},
   "source": [
    "## Mann-Whitney U test for Normal and Disorder groups"
   ]
  },
  {
   "cell_type": "markdown",
   "metadata": {},
   "source": [
    "### Considering Autism and Epilepsy as group and comparing with the Normal group"
   ]
  },
  {
   "cell_type": "code",
   "execution_count": 38,
   "metadata": {},
   "outputs": [
    {
     "name": "stdout",
     "output_type": "stream",
     "text": [
      "\n",
      "Shapiro-Wilk Test for Normal vs Disorder Group:\n",
      "Statistics=0.928, p=0.020\n",
      "Statistics=0.942, p=0.262\n",
      "Variance is not equal.\n",
      "Kruskal-Wallis Test is used for non-parametric data.\n",
      "\n",
      "Mann-Whitney U Test for Normal vs Disorder Group:\n",
      "Statistics=186.500, p=0.002\n",
      "Reject null hypothesis .There is a significant difference between the groups with disorder and normal groups.\n"
     ]
    }
   ],
   "source": [
    "disorder_group = np.concatenate([data_autistic, data_epilepsy])\n",
    "normal_group = data_normal\n",
    "\n",
    "stat_normal, p_normal = shapiro(disorder_group)\n",
    "print(\"\\nShapiro-Wilk Test for Normal vs Disorder Group:\")\n",
    "print('Statistics=%.3f, p=%.3f' % (stat_normal, p_normal))\n",
    "stat_disorder , p_disorder = shapiro(normal_group)\n",
    "print('Statistics=%.3f, p=%.3f' % (stat_disorder, p_disorder))\n",
    "if p_normal > 0.05 and p_disorder > 0.05:\n",
    "    print(\"Data is normally distributed.\")\n",
    "    print(\"ANOVA test is used for parametric data.\")\n",
    "else:\n",
    "    print(\"Variance is not equal.\")\n",
    "    print(\"Kruskal-Wallis Test is used for non-parametric data.\")\n",
    "\n",
    "\n",
    "stat, p = mannwhitneyu(disorder_group, normal_group)\n",
    "print(\"\\nMann-Whitney U Test for Normal vs Disorder Group:\")\n",
    "print('Statistics=%.3f, p=%.3f' % (stat, p))\n",
    "if p > 0.05:\n",
    "    print(\"Failed to Reject null Hypothesis. There is no significant difference between the groups.\")\n",
    "else:\n",
    "    print(\"Reject null hypothesis .There is a significant difference between the groups with disorder and normal groups.\")"
   ]
  },
  {
   "cell_type": "markdown",
   "metadata": {},
   "source": [
    "### Check homogeneity of variances for Normal , Autism and Epilepsy groups"
   ]
  },
  {
   "cell_type": "code",
   "execution_count": 39,
   "metadata": {},
   "outputs": [
    {
     "name": "stdout",
     "output_type": "stream",
     "text": [
      "\n",
      "Homogeneity of Variances Test:\n",
      "         Center  Test-Statistic   p-value\n",
      "0          Mean        9.114628  0.000388\n",
      "1        Median        7.490140  0.001346\n",
      "2  Trimmed Mean        9.811781  0.000242\n",
      "Variance is not homogenous\n"
     ]
    }
   ],
   "source": [
    "levene_mean = levene(data_normal, data_autistic, data_epilepsy, center='mean')\n",
    "levene_median = levene(data_normal, data_autistic, data_epilepsy, center='median')\n",
    "levene_trimmed_mean = levene(data_normal, data_autistic, data_epilepsy, center='trimmed')\n",
    "print(\"\\nHomogeneity of Variances Test:\")\n",
    "levene_test = pd.DataFrame({\n",
    "    'Center': ['Mean', 'Median', 'Trimmed Mean'],\n",
    "    'Test-Statistic': [levene_mean.statistic, levene_median.statistic, levene_trimmed_mean.statistic],\n",
    "    'p-value': [levene_mean.pvalue, levene_median.pvalue, levene_trimmed_mean.pvalue]\n",
    "})\n",
    "print(levene_test)\n",
    "if levene_mean.pvalue > 0.05:\n",
    "    print(\"Variance is homogenous based on mean\")\n",
    "elif levene_median.pvalue > 0.05:\n",
    "    print(\"Variance is homogenous based on median\")\n",
    "elif levene_trimmed_mean.pvalue > 0.05:\n",
    "    print(\"Variance is homogenous based on trimmed mean\")\n",
    "else:\n",
    "    print(\"Variance is not homogenous\")"
   ]
  },
  {
   "cell_type": "markdown",
   "metadata": {},
   "source": [
    "### Check homogeneity of variances for Normal and Disorder Groups"
   ]
  },
  {
   "cell_type": "code",
   "execution_count": 40,
   "metadata": {},
   "outputs": [
    {
     "name": "stdout",
     "output_type": "stream",
     "text": [
      "\n",
      "Homogeneity of Variances Test:\n",
      "         Center  Test-Statistic   p-value\n",
      "0          Mean       20.677397  0.000030\n",
      "1        Median       18.859312  0.000061\n",
      "2  Trimmed Mean       19.393440  0.000055\n",
      "Variance is not homogenous\n"
     ]
    }
   ],
   "source": [
    "levene_mean = levene(data_normal, data_disorder, center='mean')\n",
    "levene_median = levene(data_normal, data_disorder, center='median')\n",
    "levene_trimmed_mean = levene(data_normal, data_disorder, center='trimmed')\n",
    "print(\"\\nHomogeneity of Variances Test:\")\n",
    "levene_test = pd.DataFrame({\n",
    "    'Center': ['Mean', 'Median', 'Trimmed Mean'],\n",
    "    'Test-Statistic': [levene_mean.statistic, levene_median.statistic, levene_trimmed_mean.statistic],\n",
    "    'p-value': [levene_mean.pvalue, levene_median.pvalue, levene_trimmed_mean.pvalue]\n",
    "})\n",
    "print(levene_test)\n",
    "if levene_mean.pvalue > 0.05:\n",
    "    print(\"Variance is homogenous based on mean\")\n",
    "elif levene_median.pvalue > 0.05:\n",
    "    print(\"Variance is homogenous based on median\")\n",
    "elif levene_trimmed_mean.pvalue > 0.05:\n",
    "    print(\"Variance is homogenous based on trimmed mean\")\n",
    "else:\n",
    "    print(\"Variance is not homogenous\")"
   ]
  },
  {
   "cell_type": "markdown",
   "metadata": {},
   "source": [
    "### Check for sphericity of variances for Normal , Autism and Epilepsy groups"
   ]
  },
  {
   "cell_type": "code",
   "execution_count": 41,
   "metadata": {},
   "outputs": [
    {
     "name": "stdout",
     "output_type": "stream",
     "text": [
      "Mauchly Test for Sphericity:\n",
      "SpherResults(spher=True, W=0.8226893334594598, chi2=3.5131793431859304, dof=2, pval=0.1726325949178289)\n",
      "Sphericity is assumed.\n"
     ]
    }
   ],
   "source": [
    "max_length = max(len(data_normal), len(data_autistic), len(data_epilepsy))\n",
    "data_normal_padded = np.pad(data_normal, (0, max_length - len(data_normal)))\n",
    "data_autistic_padded = np.pad(data_autistic, (0, max_length - len(data_autistic)))\n",
    "data_epilepsy_padded = np.pad(data_epilepsy, (0, max_length - len(data_epilepsy)))\n",
    "\n",
    "df = pd.DataFrame({\n",
    "    'Normal': data_normal_padded,\n",
    "    'Autistic': data_autistic_padded,\n",
    "    'Epilepsy': data_epilepsy_padded\n",
    "})\n",
    "\n",
    "mauchly_test = pg.sphericity(data=df)\n",
    "print(\"Mauchly Test for Sphericity:\")\n",
    "print(mauchly_test)\n",
    "p_value = mauchly_test[4]\n",
    "if p_value > 0.05:\n",
    "    print(\"Sphericity is assumed.\")\n",
    "else:\n",
    "    print(\"Sphericity is not assumed.\")"
   ]
  },
  {
   "cell_type": "markdown",
   "metadata": {},
   "source": [
    "### Check for sphericity of variances for Normal and Disorder Groups"
   ]
  },
  {
   "cell_type": "code",
   "execution_count": 42,
   "metadata": {},
   "outputs": [
    {
     "name": "stdout",
     "output_type": "stream",
     "text": [
      "Mauchly Test for Sphericity:\n",
      "Sphericity is assumed.\n"
     ]
    }
   ],
   "source": [
    "max_length = max(len(data_normal), len(data_disorder))\n",
    "data_normal_padded = np.pad(data_normal, (0, max_length - len(data_normal)))\n",
    "data_disorder_padded = np.pad(data_disorder, (0, max_length - len(data_disorder)))\n",
    "\n",
    "df = pd.DataFrame({\n",
    "    'Normal': data_normal_padded,\n",
    "    'Disorder': data_disorder_padded\n",
    "})\n",
    "\n",
    "mauchly_test = pg.sphericity(data=df)\n",
    "print(\"Mauchly Test for Sphericity:\")\n",
    "p_value = mauchly_test[4]\n",
    "if p_value > 0.05:\n",
    "    print(\"Sphericity is assumed.\")\n",
    "else:\n",
    "    print(\"Sphericity is not assumed.\")"
   ]
  },
  {
   "cell_type": "markdown",
   "metadata": {},
   "source": [
    "### Since , normality is not satisfied, we will use the Kruskal-Wallis test to check for significant differences in memory scores among children with different neurodevelopmental disorders."
   ]
  },
  {
   "cell_type": "markdown",
   "metadata": {},
   "source": [
    "## Kruskal-Wallis Test for Normal , Autism and Epilepsy"
   ]
  },
  {
   "cell_type": "code",
   "execution_count": 43,
   "metadata": {},
   "outputs": [
    {
     "name": "stdout",
     "output_type": "stream",
     "text": [
      "\n",
      "Kruskal-Wallis Test:\n",
      "Test-Statistic: 24.96372784522497\n",
      "p-value: 3.7948566447011024e-06\n",
      "Since the data were not normally distributed, Kruskal-Wallis test for non-parametric data was used to evaluate differences among the three groups.\n",
      "\n",
      "Chi-square Critical Value:\n",
      "H-critical value: 5.991464547107979\n",
      "There is a significant difference between groups. Reject the null hypothesis.\n"
     ]
    }
   ],
   "source": [
    "kruskal_test = kruskal(data_normal, data_autistic, data_epilepsy)\n",
    "print(\"\\nKruskal-Wallis Test:\")\n",
    "print(f\"Test-Statistic: {kruskal_test.statistic}\")\n",
    "print(f\"p-value: {kruskal_test.pvalue}\")\n",
    "print(\"Since the data were not normally distributed, Kruskal-Wallis test for non-parametric data was used to evaluate differences among the three groups.\")\n",
    "\n",
    "alpha = 0.05\n",
    "df = 2\n",
    "H_critical = chi2.ppf(1 - alpha, df)\n",
    "print(\"\\nChi-square Critical Value:\")\n",
    "print(f\"H-critical value: {H_critical}\")\n",
    "\n",
    "if kruskal_test.statistic > H_critical:\n",
    "    print(\"There is a significant difference between groups. Reject the null hypothesis.\")\n",
    "else:\n",
    "    print(\"There is no significant difference between groups. Fail to reject the null hypothesis.\")\n"
   ]
  },
  {
   "cell_type": "markdown",
   "metadata": {},
   "source": [
    "## Group-wise comparison using t-test with bonferroni correction"
   ]
  },
  {
   "cell_type": "code",
   "execution_count": 44,
   "metadata": {},
   "outputs": [
    {
     "name": "stdout",
     "output_type": "stream",
     "text": [
      "There is a significant difference between Normal and Autistic (p-corrected = 1.7871272588070343e-09)\n",
      "\n",
      "No significant difference between Normal and Epilepsy (p-corrected = 1.0)\n",
      "\n",
      "There is a significant difference between Autistic and Epilepsy (p-corrected = 8.034033246856018e-05)\n",
      "\n",
      "+-----------+-----------+--------------------------+---------------+\n",
      "| Group 1   | Group 2   | Significant Difference   |   p-corrected |\n",
      "+===========+===========+==========================+===============+\n",
      "| Normal    | Autistic  | Yes                      |   1.78713e-09 |\n",
      "+-----------+-----------+--------------------------+---------------+\n",
      "| Normal    | Epilepsy  | No                       |   1           |\n",
      "+-----------+-----------+--------------------------+---------------+\n",
      "| Autistic  | Epilepsy  | Yes                      |   8.03403e-05 |\n",
      "+-----------+-----------+--------------------------+---------------+\n"
     ]
    }
   ],
   "source": [
    "datasets = [('Normal', data_normal), ('Autistic', data_autistic), ('Epilepsy', data_epilepsy)]\n",
    "alpha = 0.05\n",
    "p_values = []\n",
    "for i in range(len(datasets)):\n",
    "    for j in range(i + 1, len(datasets)):\n",
    "        group1_name, group1_data = datasets[i]\n",
    "        group2_name, group2_data = datasets[j]\n",
    "        t_stat, p_value = ttest_ind(group1_data, group2_data)\n",
    "        p_values.append(p_value)\n",
    "\n",
    "table = []\n",
    "table.append(['Group 1', 'Group 2', 'Significant Difference', 'p-corrected'])\n",
    "reject, p_values_corrected, _, _ = multipletests(p_values, alpha=alpha, method='bonferroni')\n",
    "index = 0\n",
    "for i in range(len(datasets)):\n",
    "    for j in range(i + 1, len(datasets)):\n",
    "        group1_name, _ = datasets[i]\n",
    "        group2_name, _ = datasets[j]\n",
    "        if reject[index]:\n",
    "            print(f\"There is a significant difference between {group1_name} and {group2_name} (p-corrected = {p_values_corrected[index]})\\n\")\n",
    "            table.append([group1_name, group2_name, \"Yes\", f\"{p_values_corrected[index]}\"])\n",
    "        else:\n",
    "            print(f\"No significant difference between {group1_name} and {group2_name} (p-corrected = {p_values_corrected[index]})\\n\")\n",
    "            table.append([group1_name, group2_name, \"No\", f\"{p_values_corrected[index]}\"])\n",
    "        index += 1\n",
    "print(tabulate(table, headers='firstrow', tablefmt='grid'))"
   ]
  },
  {
   "cell_type": "markdown",
   "metadata": {},
   "source": [
    "## T-test with bonferroni correction with Normal and Disorder groups"
   ]
  },
  {
   "cell_type": "code",
   "execution_count": 45,
   "metadata": {},
   "outputs": [
    {
     "name": "stdout",
     "output_type": "stream",
     "text": [
      "There is a significant difference between Normal and Disorder groups (p-corrected = 0.0011495270864079659)\n",
      "\n",
      "+-----------+-----------+--------------------------+---------------+\n",
      "| Group 1   | Group 2   | Significant Difference   |   p-corrected |\n",
      "+===========+===========+==========================+===============+\n",
      "| Normal    | Disorder  | Yes                      |    0.00114953 |\n",
      "+-----------+-----------+--------------------------+---------------+\n"
     ]
    }
   ],
   "source": [
    "data_disorder = np.concatenate((data_autistic, data_epilepsy))\n",
    "data_normal = np.array(data_normal)\n",
    "data_disorder = np.concatenate((data_autistic, data_epilepsy))\n",
    "t_stat, p_value = ttest_ind(data_normal, data_disorder)\n",
    "alpha = 0.05\n",
    "p_values = [p_value]\n",
    "reject, p_values_corrected, _, _ = multipletests(p_values, alpha=alpha, method='bonferroni')\n",
    "table = []\n",
    "table.append(['Group 1', 'Group 2', 'Significant Difference', 'p-corrected'])\n",
    "if reject[0]:\n",
    "    print(f\"There is a significant difference between Normal and Disorder groups (p-corrected = {p_values_corrected[0]})\\n\")\n",
    "    table.append(['Normal', 'Disorder', 'Yes', f\"{p_values_corrected[0]}\"])\n",
    "else:\n",
    "    print(f\"No significant difference between Normal and Disorder groups (p-corrected = {p_values_corrected[0]})\\n\")\n",
    "    table.append(['Normal', 'Disorder', 'No', f\"{p_values_corrected[0]}\"])\n",
    "print(tabulate(table, headers='firstrow', tablefmt='grid'))"
   ]
  },
  {
   "cell_type": "markdown",
   "metadata": {},
   "source": [
    "## Dunn's Post-hoc Test with Bonferroni Correction"
   ]
  },
  {
   "cell_type": "code",
   "execution_count": 46,
   "metadata": {},
   "outputs": [
    {
     "name": "stdout",
     "output_type": "stream",
     "text": [
      "Dunn's Test with Bonferroni Correction:\n",
      "1- Normal, 2- Autistic, 3- Epilepsy\n",
      "\n",
      "          1         2         3\n",
      "1  1.000000  0.000009  1.000000\n",
      "2  0.000009  1.000000  0.000243\n",
      "3  1.000000  0.000243  1.000000\n",
      "\n",
      "There is a significant difference between Normal and Autistic group.\n",
      "There is no significant difference between Normal and Epilepsy group.\n",
      "There is a significant difference between Autistic and Epilepsy group.\n"
     ]
    }
   ],
   "source": [
    "dunn_results = sp.posthoc_dunn([data_normal, data_autistic, data_epilepsy], p_adjust='bonferroni')\n",
    "print(\"Dunn's Test with Bonferroni Correction:\")\n",
    "print(\"1- Normal, 2- Autistic, 3- Epilepsy\\n\")\n",
    "print(dunn_results)\n",
    "normal_autistic = dunn_results.values[0][1]\n",
    "normal_epilepsy = dunn_results.values[0][2]\n",
    "autistic_epilepsy = dunn_results.values[1][2]\n",
    "\n",
    "if normal_autistic < 0.05:\n",
    "    print(\"\\nThere is a significant difference between Normal and Autistic group.\")\n",
    "else:\n",
    "    print(\"\\nThere is no significant difference between Normal and Autistic group.\")\n",
    "\n",
    "if normal_epilepsy < 0.05:\n",
    "    print(\"There is a significant difference between Normal and Epilepsy group.\")\n",
    "else:\n",
    "    print(\"There is no significant difference between Normal and Epilepsy group.\")\n",
    "\n",
    "if autistic_epilepsy < 0.05:\n",
    "    print(\"There is a significant difference between Autistic and Epilepsy group.\")\n",
    "else:\n",
    "    print(\"There is no significant difference between Autistic and Epilepsy group.\")"
   ]
  },
  {
   "cell_type": "markdown",
   "metadata": {},
   "source": [
    "## Games-Howell Post-Hoc Test"
   ]
  },
  {
   "cell_type": "code",
   "execution_count": 47,
   "metadata": {},
   "outputs": [
    {
     "name": "stdout",
     "output_type": "stream",
     "text": [
      "Games-Howell Test Results:\n",
      "Pairwise Comparisons\t| t-statistic\t| p-value\n",
      "---------------------------------------------\n",
      "Normal vs Autistic\t\t| 8.097257\t| 0.000000\n",
      "Normal vs Epilepsy\t\t| 0.868608\t| 0.393932\n",
      "Autistic vs Epilepsy\t\t| -4.864221\t| 0.000026\n",
      "There is a significant difference between the groups. Reject the null hypothesis.\n"
     ]
    }
   ],
   "source": [
    "def games_howell(data1, data2):\n",
    "    n1 = len(data1)\n",
    "    n2 = len(data2)\n",
    "    var1 = np.var(data1, ddof=1)\n",
    "    var2 = np.var(data2, ddof=1)\n",
    "    df_num = (var1 / n1 + var2 / n2)**2\n",
    "    df_denom = (var1**2 / ((n1**2) * (n1 - 1)) + var2**2 / ((n2**2) * (n2 - 1)))\n",
    "    df = df_num / df_denom\n",
    "    t_stat = (np.mean(data1) - np.mean(data2)) / np.sqrt(var1 / n1 + var2 / n2)\n",
    "    p_value = 2 * t.cdf(-np.abs(t_stat), df)\n",
    "    return t_stat, p_value\n",
    "\n",
    "t_stats = {}\n",
    "p_values = {}\n",
    "groups = ['Normal', 'Autistic', 'Epilepsy']\n",
    "for i in range(len(groups)):\n",
    "    for j in range(i + 1, len(groups)):\n",
    "        group1 = globals()['data_' + groups[i].lower()]\n",
    "        group2 = globals()['data_' + groups[j].lower()]\n",
    "        t_stat, p_value = games_howell(group1, group2)\n",
    "        t_stats[(groups[i], groups[j])] = t_stat\n",
    "        p_values[(groups[i], groups[j])] = p_value\n",
    "\n",
    "print(\"Games-Howell Test Results:\")\n",
    "print(\"Pairwise Comparisons\\t| t-statistic\\t| p-value\")\n",
    "print(\"---------------------------------------------\")\n",
    "for (group1, group2), t_stat in t_stats.items():\n",
    "    print(f\"{group1} vs {group2}\\t\\t| {t_stat:.6f}\\t| {p_values[(group1, group2)]:.6f}\")\n",
    "\n",
    "if all(p > 0.05 for p in p_values.values()):\n",
    "    print(\"There is no significant difference between the groups. Fail to reject the null hypothesis.\")\n",
    "else:\n",
    "    print(\"There is a significant difference between the groups. Reject the null hypothesis.\")"
   ]
  },
  {
   "cell_type": "markdown",
   "metadata": {},
   "source": [
    "#### Comparision between Normal vs Disorder group"
   ]
  },
  {
   "cell_type": "code",
   "execution_count": 48,
   "metadata": {},
   "outputs": [
    {
     "name": "stdout",
     "output_type": "stream",
     "text": [
      "\n",
      "Normal vs Disorder:\n",
      "t-statistic: 4.36992145838539\n",
      "p-value: 6.412124359365507e-05\n",
      "There is a significant difference between the groups. Reject the null hypothesis.\n"
     ]
    }
   ],
   "source": [
    "data_disorder = np.concatenate((data_autistic, data_epilepsy))\n",
    "t_stat , p = games_howell(data_normal, data_disorder)\n",
    "print(\"\\nNormal vs Disorder:\")\n",
    "print(f\"t-statistic: {t_stat}\")\n",
    "print(f\"p-value: {p}\")\n",
    "if p < 0.05:\n",
    "    print(\"There is a significant difference between the groups. Reject the null hypothesis.\")\n",
    "else:\n",
    "    print(\"There is no significant difference between the groups. Fail to reject the null hypothesis.\")"
   ]
  },
  {
   "cell_type": "markdown",
   "metadata": {},
   "source": [
    "### Analysis of Memory Scores in Children with Neurodevelopmental Disorders\n",
    "\n",
    "#### Hypotheses:\n",
    "- **Null Hypothesis (H0):** There is no significant difference in memory scores among children with different neurodevelopmental disorders.\n",
    "- **Alternative Hypothesis (H1):** Children with neurodevelopmental disorders (such as Autism and Epilepsy) have lower memory scores compared to children without these disorders.\n",
    "\n",
    "#### Normality Tests:\n",
    "- Normality assumption is met for Normal and Epilepsy groups, but not for Autistic and Disorder groups.\n",
    "\n",
    "#### Kruskal-Wallis Test:\n",
    "- A significant difference was found among the groups (p < 0.05), indicating that memory scores vary significantly between the groups.\n",
    "\n",
    "#### Post-hoc Tests:\n",
    "- Dunn's Test with Bonferroni Correction:\n",
    "    - Significant difference between Normal and Autistic group.\n",
    "    - No significant difference between Normal and Epilepsy group.\n",
    "    - Significant difference between Autistic and Epilepsy group.\n",
    "- Games-Howell Test:\n",
    "    - Significant difference between all pairs of groups: Normal vs Autistic, Normal vs Epilepsy, Autistic vs Epilepsy.\n",
    "- Mann-Whitney U Test:\n",
    "    - Reject null hypothesis. There is a significant difference between the groups with disorders and the normal group.\n",
    "\n",
    "#### Conclusion:\n",
    "Based on the analysis, we reject the null hypothesis and conclude that children with neurodevelopmental disorders, particularly Autism and Epilepsy, tend to have lower memory scores compared to children without these disorders.\n"
   ]
  },
  {
   "cell_type": "markdown",
   "metadata": {},
   "source": [
    "## Plot Analysed data"
   ]
  },
  {
   "cell_type": "code",
   "execution_count": 49,
   "metadata": {},
   "outputs": [
    {
     "data": {
      "image/png": "[encoded data removed]",
      "text/plain": [
       "<Figure size 1000x600 with 1 Axes>"
      ]
     },
     "metadata": {},
     "output_type": "display_data"
    }
   ],
   "source": [
    "plt.figure(figsize=(10, 6))\n",
    "sns.boxplot(data=[data_normal, data_autistic, data_epilepsy,data_disorder], showmeans=True)\n",
    "plt.xticks(ticks=[0, 1, 2,3], labels=['Normal', 'Autistic', 'Epilepsy','Disorder'])\n",
    "plt.ylabel('Memory Scores')\n",
    "plt.title('Memory Scores of Children with Neurodevelopmental Disorders')\n",
    "plt.show()"
   ]
  },
  {
   "cell_type": "code",
   "execution_count": 50,
   "metadata": {},
   "outputs": [
    {
     "data": {
      "image/png": "[encoded data removed]",
      "text/plain": [
       "<Figure size 1000x600 with 1 Axes>"
      ]
     },
     "metadata": {},
     "output_type": "display_data"
    },
    {
     "name": "stdout",
     "output_type": "stream",
     "text": [
      "Error bars denote confidence intervals (CI) of 95%\n"
     ]
    }
   ],
   "source": [
    "groups = ['Normal'] * len(data_normal) + ['Autistic'] * len(data_autistic) + ['Epilepsy'] * len(data_epilepsy) + ['Disorder'] * len(data_disorder)\n",
    "exam_scores = np.concatenate([data_normal, data_autistic, data_epilepsy,data_disorder])\n",
    "\n",
    "# Plot\n",
    "plt.figure(figsize=(10, 6))\n",
    "sns.barplot(x=groups, y=exam_scores, errorbar=('ci', 95), palette=\"Set3\" , hue=groups)\n",
    "plt.title('Memory Scores by Group')\n",
    "plt.xlabel('Group')\n",
    "plt.ylabel('Memory Score')\n",
    "plt.show()\n",
    "print(\"Error bars denote confidence intervals (CI) of 95%\")"
   ]
  },
  {
   "cell_type": "markdown",
   "metadata": {},
   "source": [
    "# Driving Scores"
   ]
  },
  {
   "cell_type": "code",
   "execution_count": 51,
   "metadata": {},
   "outputs": [],
   "source": [
    "## What extent of sleep deprivation affects driving ability ? \n",
    "## Condition 1 - same people in all 3 groups\n",
    "## Condition 2 - different people in all 3 groups\n",
    "one_night = np.array([15, 18, 20, 15, 12, 18, 16, 17, 14, 19, 20, 15, 16, 18, 19, 15, 17, 18, 17, 16])\n",
    "two_night = np.array([10, 16, 13, 11, 9, 14, 13, 14, 15, 14, 12, 13, 14, 12, 11, 15, 14, 16, 12, 13])\n",
    "three_night = np.array([5, 3, 9, 6, 4, 7, 8, 2, 4, 6, 9, 5, 3, 7, 1, 8, 7, 3, 6, 4])"
   ]
  },
  {
   "cell_type": "code",
   "execution_count": 52,
   "metadata": {},
   "outputs": [
    {
     "name": "stdout",
     "output_type": "stream",
     "text": [
      "        Groups  Count  Sum  Average  Variance\n",
      "0    One-Night     20  335    16.75    4.0875\n",
      "1    Two-Night     20  261    13.05    3.3475\n",
      "2  Three-Night     20  107     5.35    5.1275\n"
     ]
    }
   ],
   "source": [
    "group_stats = {\n",
    "    'Groups': ['One-Night', 'Two-Night', 'Three-Night'],\n",
    "    'Count': [len(one_night), len(two_night), len(three_night)],\n",
    "    'Sum': [one_night.sum(), two_night.sum(), three_night.sum()],\n",
    "    'Average': [one_night.mean(), two_night.mean(), three_night.mean()],\n",
    "    'Variance': [one_night.var(), two_night.var(), three_night.var()]\n",
    "}\n",
    "group_stats_df = pd.DataFrame(group_stats) \n",
    "print(group_stats_df)"
   ]
  },
  {
   "cell_type": "markdown",
   "metadata": {},
   "source": [
    "#### Null Hypothesis (H0): There is no significant difference in driving scores among individuals experiencing different durations of sleep deprivation.\n",
    "\n",
    "#### Alternative Hypothesis (H1): There is a significant difference in driving scores among individuals experiencing different durations of sleep deprivation."
   ]
  },
  {
   "cell_type": "markdown",
   "metadata": {},
   "source": [
    "## Check for Normality"
   ]
  },
  {
   "cell_type": "code",
   "execution_count": 53,
   "metadata": {},
   "outputs": [
    {
     "name": "stdout",
     "output_type": "stream",
     "text": [
      "Shapiro Normality Tests:\n",
      "                       One-Night Two-Night Three-Night\n",
      "Shapiro-Wilk Statistic  0.961926  0.960936    0.963007\n",
      "p-value                    0.583   0.56272    0.605514\n",
      "Normality                   True      True        True\n",
      "\n",
      "\n",
      "Kolmogorov-Smirnov Tests with Lilliefors Significance Correction:\n",
      "                             One-Night Two-Night Three-Night\n",
      "Kolmogorov-Smirnov Statistic  0.126619  0.143602     0.11941\n",
      "p-value                       0.866363   0.75198    0.906136\n",
      "Normality                         True      True        True\n"
     ]
    }
   ],
   "source": [
    "shapiro_normality_tests = {}\n",
    "for temp_data in one_night, two_night, three_night:\n",
    "    stat, p = shapiro(temp_data)\n",
    "    col = 'One-Night' if temp_data is one_night else 'Two-Night' if temp_data is two_night else 'Three-Night'\n",
    "    shapiro_normality_tests[col] = {'Shapiro-Wilk Statistic': stat, 'p-value': p, 'Normality': p > 0.05}\n",
    "    if p < 0.05:\n",
    "        print(f\"Data for {col} group is not normally distributed.\")\n",
    "        print(\"Kruskal-Wallis Test is used for non-parametric data.\")\n",
    "\n",
    "lilliefors_normality_tests = {}\n",
    "for temp_data in one_night, two_night, three_night:\n",
    "    n = len(temp_data)\n",
    "    d, p = kstest(temp_data, 'norm', args=(np.mean(temp_data), np.std(temp_data, ddof=1)))\n",
    "    col = 'One-Night' if temp_data is one_night else 'Two-Night' if temp_data is two_night else 'Three-Night'\n",
    "    lilliefors_normality_tests[col] = {'Kolmogorov-Smirnov Statistic': d, 'p-value': p, 'Normality': p > 0.05}\n",
    "\n",
    "print(\"Shapiro Normality Tests:\")\n",
    "print(pd.DataFrame(shapiro_normality_tests))\n",
    "print(\"\\n\")\n",
    "print(\"Kolmogorov-Smirnov Tests with Lilliefors Significance Correction:\")\n",
    "print(pd.DataFrame(lilliefors_normality_tests))"
   ]
  },
  {
   "cell_type": "markdown",
   "metadata": {},
   "source": [
    "### Check homogeneity of variances"
   ]
  },
  {
   "cell_type": "code",
   "execution_count": 54,
   "metadata": {},
   "outputs": [
    {
     "name": "stdout",
     "output_type": "stream",
     "text": [
      "\n",
      "Homogeneity of Variances Test:\n",
      "         Center  Test-Statistic   p-value\n",
      "0          Mean        0.913645  0.406852\n",
      "1        Median        0.897452  0.413288\n",
      "2  Trimmed Mean        1.783721  0.179686\n",
      "Variance is homogenous based on mean\n"
     ]
    }
   ],
   "source": [
    "levene_mean = levene(one_night, two_night, three_night, center='mean')\n",
    "levene_median = levene(one_night, two_night, three_night, center='median')\n",
    "levene_trimmed_mean = levene(one_night, two_night, three_night, center='trimmed',proportiontocut=0.1)\n",
    "levene_adjusted_df = levene(one_night, two_night, three_night, center='trimmed', proportiontocut=0.05)\n",
    "print(\"\\nHomogeneity of Variances Test:\")\n",
    "levene_test = pd.DataFrame({\n",
    "    'Center': ['Mean', 'Median', 'Trimmed Mean'],\n",
    "    'Test-Statistic': [levene_mean.statistic, levene_median.statistic, levene_trimmed_mean.statistic],\n",
    "    'p-value': [levene_mean.pvalue, levene_median.pvalue, levene_trimmed_mean.pvalue]\n",
    "})\n",
    "print(levene_test)\n",
    "if levene_mean.pvalue > 0.05:\n",
    "    print(\"Variance is homogenous based on mean\")\n",
    "elif levene_median.pvalue > 0.05:\n",
    "    print(\"Variance is homogenous based on median\")\n",
    "elif levene_trimmed_mean.pvalue > 0.05:\n",
    "    print(\"Variance is homogenous based on trimmed mean\")\n",
    "elif levene_adjusted_df.pvalue > 0.05:\n",
    "    print(\"Variance is homogenous based on trimmed mean with 5% proportion to cut\")\n",
    "else:\n",
    "    print(\"Variance is not homogenous\")"
   ]
  },
  {
   "cell_type": "markdown",
   "metadata": {},
   "source": [
    "### Check for sphericity of variances"
   ]
  },
  {
   "cell_type": "code",
   "execution_count": 55,
   "metadata": {},
   "outputs": [
    {
     "name": "stdout",
     "output_type": "stream",
     "text": [
      "SpherResults(spher=True, W=0.9171200343766543, chi2=1.5573044933841214, dof=2, pval=0.45902424604371417)\n",
      "Mauchly's Sphericity Test:\n",
      "Sphericity assumption is met.\n",
      "Repeated Measures ANOVA test is used for parametric data.\n"
     ]
    }
   ],
   "source": [
    "data = pd.DataFrame({\n",
    "    'One-Night': one_night,\n",
    "    'Two-Night': two_night,\n",
    "    'Three-Night': three_night\n",
    "})\n",
    "mauchly_test = pg.sphericity(data)\n",
    "print(mauchly_test)\n",
    "print(\"Mauchly's Sphericity Test:\")\n",
    "if mauchly_test[4] > 0.05:\n",
    "    print(\"Sphericity assumption is met.\")\n",
    "    print(\"Repeated Measures ANOVA test is used for parametric data.\")\n",
    "else:\n",
    "    print(\"Sphericity assumption is not met.\")\n",
    "    print(\"Friedman Test is used for non-parametric data.\")"
   ]
  },
  {
   "cell_type": "markdown",
   "metadata": {},
   "source": [
    "## Condition 1 - Same people in all 3 groups"
   ]
  },
  {
   "cell_type": "markdown",
   "metadata": {},
   "source": [
    "## Repeated Measures ANOVA"
   ]
  },
  {
   "cell_type": "code",
   "execution_count": 56,
   "metadata": {},
   "outputs": [
    {
     "name": "stdout",
     "output_type": "stream",
     "text": [
      "Repeated Measures ANOVA Test:\n",
      "   Source           SS  DF          MS           F         p-unc       np2       eps\n",
      "0  Within  1352.933333   2  676.466667  178.017544  5.020250e-20  0.903562  0.923463\n",
      "1   Error   144.400000  38    3.800000         NaN           NaN       NaN       NaN\n",
      "\n",
      "Within Subjects ANOVA Test:\n",
      "   Source  ddof1  ddof2           F         p-unc       ng2       eps\n",
      "0  Within      2     38  178.017544  5.020250e-20  0.843378  0.923463\n"
     ]
    }
   ],
   "source": [
    "repeated_anova = pg.rm_anova(data=pd.DataFrame({'One-Night': one_night, 'Two-Night': two_night, 'Three-Night': three_night}))\n",
    "repeated_anova_detailed = pg.rm_anova(data=pd.DataFrame({'One-Night': one_night, 'Two-Night': two_night, 'Three-Night': three_night}), detailed=True,effsize='np2')\n",
    "print(\"Repeated Measures ANOVA Test:\")\n",
    "print(repeated_anova_detailed.to_string())\n",
    "print(\"\\nWithin Subjects ANOVA Test:\")\n",
    "print(repeated_anova)\n",
    "p_value = repeated_anova['p-unc'][0]\n",
    "f_stat = repeated_anova['F'][0]"
   ]
  },
  {
   "cell_type": "code",
   "execution_count": 57,
   "metadata": {},
   "outputs": [
    {
     "name": "stdout",
     "output_type": "stream",
     "text": [
      "\n",
      "Repeated Measures ANOVA Test:\n",
      "               Anova\n",
      "====================================\n",
      "      F Value  Num DF  Den DF Pr > F\n",
      "------------------------------------\n",
      "Night 178.0175 2.0000 38.0000 0.0000\n",
      "====================================\n",
      "\n",
      "There is a significant difference between the groups.\n",
      "Main effect (F) is significant.\n",
      "\n",
      "F Critical Value:\n",
      "F-critical value: 18.999999999999982\n",
      "There is a significant difference between groups. Reject the null hypothesis. Using a one way repeated measures ANOVA we observed that there was difference in scores across the 3 timepoints \n"
     ]
    }
   ],
   "source": [
    "data_long = pd.melt(data.reset_index(), id_vars=['index'], value_vars=['One-Night', 'Two-Night', 'Three-Night'])\n",
    "data_long.columns = ['Subject', 'Night', 'Score']\n",
    "rm_anova = AnovaRM(data_long, 'Score', 'Subject', within=['Night']).fit()\n",
    "print(\"\\nRepeated Measures ANOVA Test:\")\n",
    "print(rm_anova.summary())\n",
    "\n",
    "if p_value < 0.05:\n",
    "    print(\"There is a significant difference between the groups.\")\n",
    "    print(\"Main effect (F) is significant.\")\n",
    "else:\n",
    "    print(\"There is no significant difference between the groups.\")\n",
    "    print(\"Main effect (F) is not significant. No post-hoc test performed.\")\n",
    "\n",
    "alpha = 0.05\n",
    "df = 2\n",
    "H_critical = f.ppf(1 - alpha,df,df)\n",
    "print(\"\\nF Critical Value:\")\n",
    "print(f\"F-critical value: {H_critical}\")\n",
    "\n",
    "if f_stat > H_critical:\n",
    "    print(\"There is a significant difference between groups. Reject the null hypothesis. Using a one way repeated measures ANOVA we observed that there was difference in scores across the 3 timepoints \")\n",
    "else:\n",
    "    print(\"There is no significant difference between groups. Fail to reject the null hypothesis. Using a one way repeated measures ANOVA we observed that there was no difference in scores across the 3 timepoints \")"
   ]
  },
  {
   "cell_type": "markdown",
   "metadata": {},
   "source": [
    "## Tukey's Post-Hoc Test"
   ]
  },
  {
   "cell_type": "code",
   "execution_count": 58,
   "metadata": {},
   "outputs": [
    {
     "name": "stdout",
     "output_type": "stream",
     "text": [
      "\n",
      "Post-hoc Tukey's HSD Test:\n",
      "     Multiple Comparison of Means - Tukey HSD, FWER=0.05      \n",
      "==============================================================\n",
      "   group1      group2   meandiff p-adj  lower    upper  reject\n",
      "--------------------------------------------------------------\n",
      "  One-Night Three-Night    -11.4   0.0 -12.9977 -9.8023   True\n",
      "  One-Night   Two-Night     -3.7   0.0  -5.2977 -2.1023   True\n",
      "Three-Night   Two-Night      7.7   0.0   6.1023  9.2977   True\n",
      "--------------------------------------------------------------\n"
     ]
    },
    {
     "data": {
      "image/png": "[encoded data removed]",
      "text/plain": [
       "<Figure size 1000x600 with 1 Axes>"
      ]
     },
     "metadata": {},
     "output_type": "display_data"
    },
    {
     "name": "stdout",
     "output_type": "stream",
     "text": [
      "\n",
      "Tukey's HSD value:\n",
      "7.846159711745755\n",
      "There is a significant difference between the groups. Reject the null hypothesis.\n"
     ]
    }
   ],
   "source": [
    "data_long = pd.melt(data.reset_index(), id_vars=['index'], value_vars=['One-Night', 'Two-Night', 'Three-Night'])\n",
    "tukey_result = pairwise_tukeyhsd(data_long['value'], data_long['variable'])\n",
    "print(\"\\nPost-hoc Tukey's HSD Test:\")\n",
    "print(tukey_result)\n",
    "tukey_df = tukey_result.summary()\n",
    "tukey_hsd = tukey_result.meandiffs.std()\n",
    "tukey_result.plot_simultaneous()\n",
    "plt.show()\n",
    "print(\"\\nTukey's HSD value:\")\n",
    "print(tukey_hsd)\n",
    "q_critical = tukey_result.q_crit\n",
    "if tukey_hsd > q_critical:\n",
    "    print(\"There is a significant difference between the groups. Reject the null hypothesis.\")\n",
    "else:\n",
    "    print(\"There is no significant difference between the groups. Fail to reject the null hypothesis.\")"
   ]
  },
  {
   "cell_type": "markdown",
   "metadata": {},
   "source": [
    "## Condition 1 - Conclusion\n",
    "### Shapiro Normality Tests:\n",
    "\n",
    "Based on the Shapiro-Wilk statistic and p-values, normality is assumed for each group (One-Night, Two-Night, Three-Night).\n",
    "\n",
    "### Homogeneity of Variances Test:\n",
    "\n",
    "Variance is considered homogeneous based on the mean.\n",
    "\n",
    "### Mauchly's Sphericity Test:\n",
    "\n",
    "Sphericity assumption is met.\n",
    "\n",
    "### Repeated Measures ANOVA Test:\n",
    "\n",
    "- There is a significant difference between the groups (p < 0.05).\n",
    "- The effect size (np2) is substantial (0.903562), indicating a large effect.\n",
    "- The epsilon value (eps) is close to 1, suggesting that the assumption of sphericity is reasonable.\n",
    "\n",
    "### Tukey's HSD value:\n",
    "\n",
    "The Tukey's Honestly Significant Difference (HSD) value is calculated as 7.846.\n",
    "Since there is a significant difference between the groups, we reject the null hypothesis.\n",
    "\n",
    "Based on these results, we can conclude that sleep deprivation significantly affects driving ability, and there are discernible differences among the groups across the three time points.\n"
   ]
  },
  {
   "cell_type": "markdown",
   "metadata": {},
   "source": [
    "## Condition 2 - Different people in all 3 groups"
   ]
  },
  {
   "cell_type": "markdown",
   "metadata": {},
   "source": [
    "## One-way ANOVA"
   ]
  },
  {
   "cell_type": "code",
   "execution_count": 59,
   "metadata": {},
   "outputs": [
    {
     "name": "stdout",
     "output_type": "stream",
     "text": [
      "ANOVA Table\n",
      "+---------------------+-------------+----+------------+\n",
      "| Source of Variation |     SS      | df |     MS     |\n",
      "+---------------------+-------------+----+------------+\n",
      "|   Between Groups    | 1352.933333 | 2  | 676.466667 |\n",
      "|    Within Groups    | 251.250000  | 57 |  4.407895  |\n",
      "|        Total        | 1604.183333 | 59 |            |\n",
      "+---------------------+-------------+----+------------+\n",
      "\n",
      "ANOVA Table\n",
      "+---------------------+------------+------------------------+----------+\n",
      "| Source of Variation |     F      |        p-value         |  F crit  |\n",
      "+---------------------+------------+------------------------+----------+\n",
      "|   Between Groups    | 153.467065 | 1.1102230246251565e-16 | 3.158843 |\n",
      "|    Within Groups    |            |                        |          |\n",
      "|        Total        |            |                        |          |\n",
      "+---------------------+------------+------------------------+----------+\n"
     ]
    }
   ],
   "source": [
    "k = 3\n",
    "N = len(one_night) + len(two_night) + len(three_night)\n",
    "group_means = [np.mean(one_night), np.mean(two_night), np.mean(three_night)]\n",
    "grand_mean = np.mean([np.mean(one_night), np.mean(two_night), np.mean(three_night)])\n",
    "SSb = sum([len(one_night) * (group_means[0] - grand_mean) ** 2,\n",
    "           len(two_night) * (group_means[1] - grand_mean) ** 2,\n",
    "           len(three_night) * (group_means[2] - grand_mean) ** 2])\n",
    "dfb = k-1\n",
    "MSb = SSb / dfb\n",
    "SSw = sum([(x - group_means[i]) ** 2 for i, data in enumerate([one_night,two_night,three_night]) for x in data])\n",
    "dfw = N-k\n",
    "MSw = SSw / dfw\n",
    "F_value = MSb / MSw\n",
    "alpha = 0.05\n",
    "F_crit = f.ppf(1 - alpha, dfb, dfw)\n",
    "p_value = 1-f.cdf(F_value, dfb, dfw)\n",
    "\n",
    "\n",
    "anova_table = [\n",
    "    [\"Between Groups\", f\"{SSb:.6f}\", dfb, f\"{MSb:.6f}\"],\n",
    "    [\"Within Groups\", f\"{SSw:.6f}\", dfw, f\"{MSw:.6f}\"],\n",
    "    [\"Total\", f\"{SSb+SSw:.6f}\", dfb+dfw]\n",
    "]\n",
    "\n",
    "print(\"ANOVA Table\")\n",
    "print(tabulate(anova_table, headers=[\"Source of Variation\", \"SS\", \"df\", \"MS\"], tablefmt=\"pretty\"))\n",
    "\n",
    "anova_table = [\n",
    "    [\"Between Groups\", f\"{F_value:.6f}\",f\"{p_value}\" ,f\"{F_crit:.6f}\"],\n",
    "    [\"Within Groups\"],\n",
    "    [\"Total\"]\n",
    "]\n",
    "print(\"\\nANOVA Table\")\n",
    "print(tabulate(anova_table, headers=[\"Source of Variation\", \"F\", \"p-value\",\"F crit\"], tablefmt=\"pretty\"))"
   ]
  },
  {
   "cell_type": "code",
   "execution_count": 60,
   "metadata": {},
   "outputs": [
    {
     "name": "stdout",
     "output_type": "stream",
     "text": [
      "\n",
      "One-way ANOVA Test:\n",
      "F-statistic: 153.46706467661707\n",
      "p-value: 1.1305349928649485e-23\n",
      "\n",
      "Since p-value < 0.05, there are significant differences between groups. Using a one way ANOVA we observed that the extent of sleep deprivation affects driving ability.\n"
     ]
    }
   ],
   "source": [
    "anova_result = f_oneway(one_night, two_night, three_night)\n",
    "print(\"\\nOne-way ANOVA Test:\")\n",
    "print(f\"F-statistic: {anova_result.statistic}\")\n",
    "print(f\"p-value: {anova_result.pvalue}\")\n",
    "\n",
    "if anova_result.pvalue < 0.05:\n",
    "    print(\"\\nSince p-value < 0.05, there are significant differences between groups. Using a one way ANOVA we observed that the extent of sleep deprivation affects driving ability.\")\n",
    "else:\n",
    "    print(\"\\nNo significant differences between groups.\")"
   ]
  },
  {
   "cell_type": "markdown",
   "metadata": {},
   "source": [
    "## Effect-size calculation"
   ]
  },
  {
   "cell_type": "code",
   "execution_count": 61,
   "metadata": {},
   "outputs": [
    {
     "name": "stdout",
     "output_type": "stream",
     "text": [
      "Effect Size: 0.843378\n",
      "Extent of sleep deprivation explains 0.843378 of the variance in driving ability.\n"
     ]
    }
   ],
   "source": [
    "Effect_size = SSb / (SSb + SSw)\n",
    "print(f\"Effect Size: {Effect_size:.6f}\")\n",
    "print(f\"Extent of sleep deprivation explains {Effect_size:.6f} of the variance in driving ability.\")"
   ]
  },
  {
   "cell_type": "markdown",
   "metadata": {},
   "source": [
    "## Group-wise comparison using t-test with bonferroni correction"
   ]
  },
  {
   "cell_type": "code",
   "execution_count": 62,
   "metadata": {},
   "outputs": [
    {
     "name": "stdout",
     "output_type": "stream",
     "text": [
      "alpha corrected:  0.016666666666666666\n",
      "+--------------------------+------------------+--------------------------------+\n",
      "| Groupwise comparisons    |   T-test p-value |   Bonferroni-corrected p-value |\n",
      "+==========================+==================+================================+\n",
      "| One-Night vs Two-Night   |      7.45169e-07 |                    2.23551e-06 |\n",
      "+--------------------------+------------------+--------------------------------+\n",
      "| Two-Night vs Three-Night |      5.66876e-14 |                    1.70063e-13 |\n",
      "+--------------------------+------------------+--------------------------------+\n",
      "| Three-Night vs One-Night |      8.40921e-19 |                    2.52276e-18 |\n",
      "+--------------------------+------------------+--------------------------------+\n"
     ]
    }
   ],
   "source": [
    "t_statistic_one_two, p_value_one_two = ttest_ind(one_night, two_night)\n",
    "t_statistic_two_three, p_value_two_three = ttest_ind(two_night, three_night)\n",
    "t_statistic_three_one, p_value_three_one = ttest_ind(three_night, one_night)\n",
    "\n",
    "alpha = 0.05\n",
    "alpha_corrected = alpha / 3 \n",
    "\n",
    "print(\"alpha corrected: \", alpha_corrected)\n",
    "\n",
    "p_value_one_two_corrected = p_value_one_two * 3\n",
    "p_value_two_three_corrected = p_value_two_three * 3\n",
    "p_value_three_one_corrected = p_value_three_one * 3\n",
    "\n",
    "table_data = [\n",
    "    ['Groupwise comparisons', 'T-test p-value', 'Bonferroni-corrected p-value'],\n",
    "    ['One-Night vs Two-Night', p_value_one_two, p_value_one_two_corrected],\n",
    "    ['Two-Night vs Three-Night', p_value_two_three, p_value_two_three_corrected],\n",
    "    ['Three-Night vs One-Night', p_value_three_one, p_value_three_one_corrected]\n",
    "]\n",
    "print(tabulate(table_data, headers=\"firstrow\", tablefmt=\"grid\"))"
   ]
  },
  {
   "cell_type": "markdown",
   "metadata": {},
   "source": [
    "## Holm method for multiple comparisons"
   ]
  },
  {
   "cell_type": "code",
   "execution_count": 63,
   "metadata": {},
   "outputs": [
    {
     "name": "stdout",
     "output_type": "stream",
     "text": [
      "There is a significant difference between Normal and Autistic (p-corrected = 1.7871272588070343e-09)\n",
      "\n",
      "No significant difference between Normal and Epilepsy (p-corrected = 0.3816292163425007)\n",
      "\n",
      "There is a significant difference between Autistic and Epilepsy (p-corrected = 5.356022164570678e-05)\n",
      "\n",
      "+-----------+-----------+--------------------------+---------------+\n",
      "| Group 1   | Group 2   | Significant Difference   |   p-corrected |\n",
      "+===========+===========+==========================+===============+\n",
      "| Normal    | Autistic  | Yes                      |   1.78713e-09 |\n",
      "+-----------+-----------+--------------------------+---------------+\n",
      "| Normal    | Epilepsy  | No                       |   0.381629    |\n",
      "+-----------+-----------+--------------------------+---------------+\n",
      "| Autistic  | Epilepsy  | Yes                      |   5.35602e-05 |\n",
      "+-----------+-----------+--------------------------+---------------+\n"
     ]
    }
   ],
   "source": [
    "datasets = [('Normal', data_normal), ('Autistic', data_autistic), ('Epilepsy', data_epilepsy)]\n",
    "alpha = 0.05\n",
    "p_values = []\n",
    "for i in range(len(datasets)):\n",
    "    for j in range(i + 1, len(datasets)):\n",
    "        group1_name, group1_data = datasets[i]\n",
    "        group2_name, group2_data = datasets[j]\n",
    "        t_stat, p_value = ttest_ind(group1_data, group2_data)\n",
    "        p_values.append(p_value)\n",
    "\n",
    "table = []\n",
    "table.append(['Group 1', 'Group 2', 'Significant Difference', 'p-corrected'])\n",
    "reject, p_values_corrected, _, _ = multipletests(p_values, alpha=alpha, method='holm')\n",
    "index = 0\n",
    "for i in range(len(datasets)):\n",
    "    for j in range(i + 1, len(datasets)):\n",
    "        group1_name, _ = datasets[i]\n",
    "        group2_name, _ = datasets[j]\n",
    "        if reject[index]:\n",
    "            print(f\"There is a significant difference between {group1_name} and {group2_name} (p-corrected = {p_values_corrected[index]})\\n\")\n",
    "            table.append([group1_name, group2_name, \"Yes\", f\"{p_values_corrected[index]}\"])\n",
    "        else:\n",
    "            print(f\"No significant difference between {group1_name} and {group2_name} (p-corrected = {p_values_corrected[index]})\\n\")\n",
    "            table.append([group1_name, group2_name, \"No\", f\"{p_values_corrected[index]}\"])\n",
    "        index += 1\n",
    "print(tabulate(table, headers='firstrow', tablefmt='grid'))"
   ]
  },
  {
   "cell_type": "markdown",
   "metadata": {},
   "source": [
    "## Tukey's Post-Hoc Test"
   ]
  },
  {
   "cell_type": "code",
   "execution_count": 64,
   "metadata": {},
   "outputs": [
    {
     "name": "stdout",
     "output_type": "stream",
     "text": [
      "     Multiple Comparison of Means - Tukey HSD, FWER=0.05      \n",
      "==============================================================\n",
      "   group1      group2   meandiff p-adj  lower    upper  reject\n",
      "--------------------------------------------------------------\n",
      "  One-Night Three-Night    -11.4   0.0 -12.9977 -9.8023   True\n",
      "  One-Night   Two-Night     -3.7   0.0  -5.2977 -2.1023   True\n",
      "Three-Night   Two-Night      7.7   0.0   6.1023  9.2977   True\n",
      "--------------------------------------------------------------\n",
      "3.403189192594075\n",
      "HSD: 1.597669\n",
      "The mean difference between any two samples must be more than 1.597669 at alpha = 0.05 for the difference to be statistically significant\n"
     ]
    }
   ],
   "source": [
    "if anova_result.pvalue < 0.05:\n",
    "    data_melted = pd.melt(data)\n",
    "    posthoc = pairwise_tukeyhsd(data_melted['value'], data_melted['variable'], alpha=0.05)\n",
    "    print(posthoc)\n",
    "    print(posthoc.q_crit) \n",
    "    HSD = posthoc.q_crit*np.sqrt(MSw / len(data))\n",
    "    print(f\"HSD: {HSD:.6f}\")\n",
    "    print(f\"The mean difference between any two samples must be more than {HSD:.6f} at alpha = 0.05 for the difference to be statistically significant\")"
   ]
  },
  {
   "cell_type": "markdown",
   "metadata": {},
   "source": [
    "## Condition 2 - Conclusion\n",
    "### Shapiro Normality Tests:\n",
    "\n",
    "Based on the Shapiro-Wilk statistic and p-values, normality is assumed for each group (One-Night, Two-Night, Three-Night).\n",
    "\n",
    "### Homogeneity of Variances Test:\n",
    "\n",
    "Variance is considered homogeneous based on the mean.\n",
    "\n",
    "### Mauchly's Sphericity Test:\n",
    "\n",
    "Sphericity assumption is met.\n",
    "\n",
    "### One-way ANOVA Test:\n",
    "\n",
    "- F-statistic: 153.47\n",
    "- p-value: 1.13e-23\n",
    "- Since p-value < 0.05, there are significant differences between groups. Using a one-way ANOVA, we observed that the extent of sleep deprivation affects driving ability.\n",
    "- Effect Size: 0.843378 (Extent of sleep deprivation explains 84.34% of the variance in driving ability)\n",
    "- HSD (Honestly Significant Difference): 1.597669. The mean difference between any two samples must be more than 1.597669 at alpha = 0.05 for the difference to be statistically significant.\n",
    "\n",
    "### Groupwise Comparisons:\n",
    "These results suggest significant differences in driving ability between groups across different extents of sleep deprivation.\n"
   ]
  },
  {
   "cell_type": "markdown",
   "metadata": {},
   "source": [
    "## Plot Analysed data"
   ]
  },
  {
   "cell_type": "code",
   "execution_count": 65,
   "metadata": {},
   "outputs": [
    {
     "data": {
      "image/png": "[encoded data removed]",
      "text/plain": [
       "<Figure size 1000x600 with 1 Axes>"
      ]
     },
     "metadata": {},
     "output_type": "display_data"
    }
   ],
   "source": [
    "plt.figure(figsize=(10, 6))\n",
    "sns.boxplot(data=[one_night, two_night, three_night], showmeans=True)\n",
    "plt.xticks(ticks=[0, 1, 2], labels=['One-Night', 'Two-Night', 'Three-Night'])\n",
    "plt.ylabel('Driving Ability Scores')\n",
    "plt.title('Driving scores based on sleep deprivation')\n",
    "plt.show()"
   ]
  },
  {
   "cell_type": "code",
   "execution_count": 66,
   "metadata": {},
   "outputs": [
    {
     "data": {
      "image/png": "[encoded data removed]",
      "text/plain": [
       "<Figure size 1000x600 with 1 Axes>"
      ]
     },
     "metadata": {},
     "output_type": "display_data"
    },
    {
     "name": "stdout",
     "output_type": "stream",
     "text": [
      "Error bars denote confidence intervals (CI) of 95%\n"
     ]
    }
   ],
   "source": [
    "groups = ['One-Night'] * len(one_night) + ['Two-Night'] * len(two_night) + ['Three-Night'] * len(three_night)\n",
    "driving_scores = np.concatenate([one_night, two_night, three_night])\n",
    "\n",
    "plt.figure(figsize=(10, 6))\n",
    "sns.barplot(x=groups, y=driving_scores, errorbar=('ci', 95), palette=\"Set3\" , hue=groups)\n",
    "plt.title('Driving Scores by Group')\n",
    "plt.xlabel('Group')\n",
    "plt.ylabel('Driving Score')\n",
    "plt.show()\n",
    "print(\"Error bars denote confidence intervals (CI) of 95%\")"
   ]
  }
 ],
 "metadata": {
  "kernelspec": {
   "display_name": "Python 3",
   "language": "python",
   "name": "python3"
  },
  "language_info": {
   "codemirror_mode": {
    "name": "ipython",
    "version": 3
   },
   "file_extension": ".py",
   "mimetype": "text/x-python",
   "name": "python",
   "nbconvert_exporter": "python",
   "pygments_lexer": "ipython3",
   "version": "3.12.1"
  }
 },
 "nbformat": 4,
 "nbformat_minor": 2
}
